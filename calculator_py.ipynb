{
  "cells": [
    {
      "cell_type": "markdown",
      "metadata": {
        "id": "view-in-github",
        "colab_type": "text"
      },
      "source": [
        "<a href=\"https://colab.research.google.com/github/jdwatson08/Calculator/blob/main/calculator_py.ipynb\" target=\"_parent\"><img src=\"https://colab.research.google.com/assets/colab-badge.svg\" alt=\"Open In Colab\"/></a>"
      ]
    },
    {
      "cell_type": "code",
      "execution_count": null,
      "metadata": {
        "colab": {
          "background_save": true,
          "base_uri": "https://localhost:8080/"
        },
        "id": "Zqtj6iUibY3m",
        "outputId": "a81e5875-6285-4f60-df10-2e74f6c20bb7"
      },
      "outputs": [
        {
          "name": "stdout",
          "output_type": "stream",
          "text": [
            "Welcome to the calculator!\n",
            "Please enter two numbers:\n"
          ]
        }
      ],
      "source": [
        "def add(a, b):\n",
        "  return a + b\n",
        "\n",
        "def subtract(a, b):\n",
        "  return a - b\n",
        "\n",
        "def multiply(a, b):\n",
        "  return a * b\n",
        "\n",
        "def divide(a, b):\n",
        "  return a / b\n",
        "\n",
        "def main():\n",
        "  print(\"Welcome to the calculator!\")\n",
        "  print(\"Please enter two numbers:\")\n",
        "  a = int(input(\"Number 1: \"))\n",
        "  b = int(input(\"Number 2: \"))\n",
        "  print(\"Please choose an operation:\")\n",
        "  print(\"1. Add\")\n",
        "  print(\"2. Subtract\")\n",
        "  print(\"3. Multiply\")\n",
        "  print(\"4. Divide\")\n",
        "  operation = int(input(\"Operation: \"))\n",
        "  if operation == 1:\n",
        "    print(a, \"+\", b, \"=\", add(a, b))\n",
        "  elif operation == 2:\n",
        "    print(a, \"-\", b, \"=\", subtract(a, b))\n",
        "  elif operation == 3:\n",
        "    print(a, \"*\", b, \"=\", multiply(a, b))\n",
        "  elif operation == 4:\n",
        "    print(a, \"/\", b, \"=\", divide(a, b))\n",
        "  else:\n",
        "    print(\"Invalid operation.\")"
      ]
    }
  ],
  "metadata": {
    "colab": {
      "provenance": [],
      "authorship_tag": "ABX9TyNkSrtA5QIXu261nnPR/joY",
      "include_colab_link": true
    },
    "kernelspec": {
      "display_name": "Python 3",
      "name": "python3"
    },
    "language_info": {
      "name": "python"
    }
  },
  "nbformat": 4,
  "nbformat_minor": 0
}